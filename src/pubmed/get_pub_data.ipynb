{
 "cells": [
  {
   "cell_type": "markdown",
   "metadata": {},
   "source": [
    "Get metadata on publications and associated data"
   ]
  },
  {
   "cell_type": "code",
   "execution_count": 1,
   "metadata": {},
   "outputs": [],
   "source": [
    "from Bio import Entrez\n",
    "import json\n",
    "from dotenv import dotenv_values\n",
    "config = dotenv_values('.env')\n",
    "Entrez.email = config['email']\n",
    "import pickle\n",
    "from datetime import datetime\n",
    "today = datetime.now().strftime(\"%Y-%m-%d\")"
   ]
  },
  {
   "cell_type": "code",
   "execution_count": 2,
   "metadata": {},
   "outputs": [],
   "source": [
    "grant = \"75N93019C00070/AI/NIAID NIH HHS/United States[Grants and Funding]\""
   ]
  },
  {
   "cell_type": "code",
   "execution_count": 3,
   "metadata": {},
   "outputs": [
    {
     "name": "stdout",
     "output_type": "stream",
     "text": [
      "Found 17 papers for the grant.\n"
     ]
    }
   ],
   "source": [
    "# Use Entrez to search PubMed\n",
    "handle = Entrez.esearch(db=\"pubmed\", term=grant, usehistory=\"y\")\n",
    "record = Entrez.read(handle)\n",
    "handle.close()\n",
    "\n",
    "# Fetch the list of PubMed IDs (PMIDs)\n",
    "id_list = record[\"IdList\"]\n",
    "print(f\"Found {len(id_list)} papers for the grant.\")"
   ]
  },
  {
   "cell_type": "code",
   "execution_count": 77,
   "metadata": {},
   "outputs": [
    {
     "data": {
      "text/plain": [
       "['38995971', '38912839', '38826239', '38659794', '38617280', '38236787', '38130719', '38011264', '36993415', '35428268', '34215836', '34077724', '33903765', '33711270', '35340357', '33142108', '32895573']"
      ]
     },
     "execution_count": 77,
     "metadata": {},
     "output_type": "execute_result"
    }
   ],
   "source": [
    "id_list"
   ]
  },
  {
   "cell_type": "code",
   "execution_count": 87,
   "metadata": {},
   "outputs": [
    {
     "data": {
      "text/plain": [
       "['38995971',\n",
       " '38912839',\n",
       " '38826239',\n",
       " '38659794',\n",
       " '38617280',\n",
       " '38236787',\n",
       " '38130719',\n",
       " '38011264',\n",
       " '36993415',\n",
       " '35428268',\n",
       " '34215836',\n",
       " '34077724',\n",
       " '33903765',\n",
       " '33711270',\n",
       " '35340357',\n",
       " '33142108',\n",
       " '32895573']"
      ]
     },
     "execution_count": 87,
     "metadata": {},
     "output_type": "execute_result"
    }
   ],
   "source": [
    "# Fetch details for the first few papers\n",
    "handle = Entrez.esummary(db=\"pubmed\", id=id_list, rettype=\"medline\", retmode=\"json\")\n",
    "records = handle.read()\n",
    "handle.close()\n",
    "\n",
    "records = json.loads(records.decode('utf-8'))\n",
    "\n",
    "# Print the metadata\n",
    "# records\n",
    "\n",
    "results = records['result']\n",
    "results.pop('uids')"
   ]
  },
  {
   "cell_type": "code",
   "execution_count": 16,
   "metadata": {},
   "outputs": [],
   "source": [
    "# # Fetch details for the first few papers\n",
    "# handle = Entrez.efetch(db=\"pubmed\", id=id_list[0], rettype=\"medline\", retmode=\"text\")\n",
    "# records = handle.read()\n",
    "# handle.close()\n",
    "\n",
    "# # Print the metadata\n",
    "# print(records)"
   ]
  },
  {
   "cell_type": "code",
   "execution_count": 88,
   "metadata": {},
   "outputs": [],
   "source": [
    "import xmltodict"
   ]
  },
  {
   "cell_type": "code",
   "execution_count": 99,
   "metadata": {},
   "outputs": [
    {
     "name": "stdout",
     "output_type": "stream",
     "text": [
      "38995971\n",
      "38912839\n",
      "38826239\n",
      "\tMesh Headings:  False\n",
      "38659794\n",
      "\tMesh Headings:  False\n",
      "38617280\n",
      "\tMesh Headings:  False\n",
      "38236787\n",
      "38130719\n",
      "38011264\n",
      "36993415\n",
      "\tMesh Headings:  False\n",
      "35428268\n",
      "34215836\n",
      "\tMesh Headings:  False\n",
      "34077724\n",
      "33903765\n",
      "\tAbstract:  False\n",
      "33711270\n",
      "35340357\n",
      "\tMesh Headings:  False\n",
      "33142108\n",
      "32895573\n"
     ]
    }
   ],
   "source": [
    "for i in id_list:\n",
    "    handle = Entrez.efetch(db=\"pubmed\", id=i)\n",
    "    records = handle.read()\n",
    "    handle.close()\n",
    "\n",
    "    # Parse the XML data\n",
    "    dict_data = xmltodict.parse(records.decode())\n",
    "    citation = dict_data['PubmedArticleSet']['PubmedArticle']['MedlineCitation']\n",
    "    print(i)\n",
    "    try: \n",
    "        results[i]['abstract'] = citation['Article']['Abstract']['AbstractText']\n",
    "    except: \n",
    "        print('\\tAbstract: ', False)\n",
    "    try: \n",
    "        results[i]['mesh_headings'] = [c for c in citation['MeshHeadingList']['MeshHeading']]\n",
    "    except: \n",
    "        print('\\tMesh Headings: ', False)"
   ]
  },
  {
   "cell_type": "code",
   "execution_count": 100,
   "metadata": {},
   "outputs": [],
   "source": [
    "with open(f'./data/publications_{today}.pkl', 'wb') as file: \n",
    "    # Use pickle to serialize the object and save it to the file\n",
    "    pickle.dump(results, file)"
   ]
  },
  {
   "cell_type": "code",
   "execution_count": null,
   "metadata": {},
   "outputs": [],
   "source": []
  }
 ],
 "metadata": {
  "kernelspec": {
   "display_name": "Python 3",
   "language": "python",
   "name": "python3"
  },
  "language_info": {
   "codemirror_mode": {
    "name": "ipython",
    "version": 3
   },
   "file_extension": ".py",
   "mimetype": "text/x-python",
   "name": "python",
   "nbconvert_exporter": "python",
   "pygments_lexer": "ipython3",
   "version": "3.12.4"
  }
 },
 "nbformat": 4,
 "nbformat_minor": 2
}
