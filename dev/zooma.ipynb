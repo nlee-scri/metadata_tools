{
 "cells": [
  {
   "cell_type": "markdown",
   "metadata": {},
   "source": [
    "Testing [Zooma API](https://www.ebi.ac.uk/spot/zooma/docs/api)"
   ]
  },
  {
   "cell_type": "code",
   "execution_count": 78,
   "metadata": {},
   "outputs": [],
   "source": [
    "import requests\n",
    "import json\n",
    "from urllib.parse import urlparse\n",
    "from datatools.utils.utils import apply_to_list\n",
    "from dataclasses import dataclass\n",
    "from typing import List, Dict, Any, Optional, Tuple\n",
    "import pandas as pd"
   ]
  },
  {
   "cell_type": "code",
   "execution_count": 4,
   "metadata": {},
   "outputs": [],
   "source": [
    "ssl_pem_file_path = \"/path/to/certs/ca-certificates.crt\""
   ]
  },
  {
   "cell_type": "code",
   "execution_count": 164,
   "metadata": {},
   "outputs": [
    {
     "name": "stdout",
     "output_type": "stream",
     "text": [
      "Term:  confocal microscopy\n",
      "Number of results:  1\n",
      "Results: \n",
      "         propertyValue Ontology         Term Confidence\n",
      "0  Confocal Microscopy      obo  NCIT_C17753       GOOD\n"
     ]
    }
   ],
   "source": [
    "@apply_to_list\n",
    "def parse_ontology_term(url: str) -> Tuple[str, str]:\n",
    "    \"\"\"\n",
    "    Example:\n",
    "        ontology_name, term_name = parse_ontology_term('http://purl.obolibrary.org/obo/MONDO_0004992')\n",
    "        print(f\"Ontology Name: {ontology_name}, Term Name: {term_name}\")\n",
    "    \"\"\"\n",
    "\n",
    "    parsed_url = urlparse(url)\n",
    "    path_parts = parsed_url.path.split(\"/\")\n",
    "    ontology_name = path_parts[-2]\n",
    "    term_name = path_parts[-1]\n",
    "    return {\"Ontology\": ontology_name, \"Term\": term_name}\n",
    "\n",
    "\n",
    "class zooma:\n",
    "    def __init__(self, ssl_pem_file_path):\n",
    "        self.BASE_URL = \"https://www.ebi.ac.uk/spot/zooma/v2/api\"\n",
    "        self.ssl_pem_file_path = ssl_pem_file_path\n",
    "\n",
    "    def is_valid_url(url):\n",
    "        try:\n",
    "            result = urlparse(url)\n",
    "            return all([result.scheme, result.netloc])\n",
    "        except ValueError:\n",
    "            return False\n",
    "\n",
    "    def join_url(self, *args):\n",
    "        return \"/\".join(map(lambda x: str(x).strip(\"/\"), args))\n",
    "\n",
    "    def handle_request(self, method, endpoint, params=None):\n",
    "        url = self.join_url(self.BASE_URL, endpoint)\n",
    "        try:\n",
    "            if method == \"GET\":\n",
    "                response = requests.get(\n",
    "                    url, params=params, verify=self.ssl_pem_file_path\n",
    "                )\n",
    "            elif method == \"POST\":\n",
    "                response = requests.post(\n",
    "                    url, json=params, verify=self.ssl_pem_file_path\n",
    "                )\n",
    "            else:\n",
    "                raise ValueError(\"Unsupported HTTP method\")\n",
    "\n",
    "            response.raise_for_status()\n",
    "            return response\n",
    "        \n",
    "        except requests.exceptions.RequestException as e:\n",
    "            print(f\"Request failed: {e}\")\n",
    "            return response\n",
    "\n",
    "    def general_get(self, endpoint, params):\n",
    "        response = self.handle_request(\"GET\", endpoint, params)\n",
    "        return response\n",
    "    \n",
    "    def response_to_df(self, response):\n",
    "        \n",
    "        data = json.loads(response.text)\n",
    "        print(\"Number of results: \", len(data))\n",
    "        print(\"Results: \")\n",
    "        combined_dict = [\n",
    "            {\n",
    "                **d[\"annotatedProperty\"],\n",
    "                **parse_ontology_term(d[\"semanticTags\"])[0],\n",
    "                \"Confidence\": d[\"confidence\"],\n",
    "            }\n",
    "            for d in data\n",
    "        ]\n",
    "        results = pd.DataFrame(combined_dict).sort_values(\n",
    "            \"Confidence\", ascending=True\n",
    "        )\n",
    "        \n",
    "        results.dropna(how='all', inplace=True, axis=1)\n",
    "        print(results)\n",
    "        \n",
    "        return results\n",
    "\n",
    "\n",
    "    def get_annotations(self, term):\n",
    "        # predicting annotations\n",
    "\n",
    "        endpoint = \"/services/annotate\"\n",
    "\n",
    "        print(\"Term: \", term)\n",
    "        term = term.replace(\" \", \"+\").lower()\n",
    "\n",
    "        params = {\"propertyValue\": term}\n",
    "\n",
    "        response = self.handle_request(\"GET\", endpoint, params)\n",
    "\n",
    "\n",
    "        if response.status_code == 200:\n",
    "            data = json.loads(response.text)\n",
    "            results = self.response_to_df(response)\n",
    "\n",
    "            return data, results\n",
    "        else:\n",
    "\n",
    "            return None\n",
    "\n",
    "\n",
    "zooma_worker = zooma(ssl_pem_file_path)\n",
    "\n",
    "data = zooma_worker.get_annotations(\"confocal microscopy\")"
   ]
  },
  {
   "cell_type": "code",
   "execution_count": 165,
   "metadata": {},
   "outputs": [
    {
     "name": "stdout",
     "output_type": "stream",
     "text": [
      "Term:  C3HeB\n",
      "Number of results:  2\n",
      "Results: \n",
      "     propertyValue Ontology         Term Confidence\n",
      "0  C3HeB/FeJ Mouse      obo  NCIT_C37374     MEDIUM\n",
      "1        C3HeB/FeJ      efo  EFO_0022465     MEDIUM\n"
     ]
    }
   ],
   "source": [
    "data = zooma_worker.get_annotations(\"C3HeB\")"
   ]
  },
  {
   "cell_type": "code",
   "execution_count": 171,
   "metadata": {},
   "outputs": [
    {
     "name": "stdout",
     "output_type": "stream",
     "text": [
      "Term:  Lung\n",
      "Number of results:  1\n",
      "Results: \n",
      "                                                 uri   propertyType  \\\n",
      "0  http://rdf.ebi.ac.uk/resource/zooma/031E0DDD6C...  organism part   \n",
      "\n",
      "  propertyValue Ontology            Term Confidence  \n",
      "0          lung      obo  UBERON_0002048       HIGH  \n"
     ]
    }
   ],
   "source": [
    "data = zooma_worker.get_annotations(\"Lung\")"
   ]
  },
  {
   "cell_type": "code",
   "execution_count": 169,
   "metadata": {},
   "outputs": [
    {
     "name": "stdout",
     "output_type": "stream",
     "text": [
      "Term:  tuberculosis\n",
      "Number of results:  1\n",
      "Results: \n",
      "                                                 uri propertyType  \\\n",
      "0  http://rdf.ebi.ac.uk/resource/zooma/C046A5C0E5...      disease   \n",
      "\n",
      "  propertyValue Ontology           Term Confidence  \n",
      "0  tuberculosis     ORDO  Orphanet_3389       HIGH  \n"
     ]
    }
   ],
   "source": [
    "data = zooma_worker.get_annotations(\"tuberculosis\")"
   ]
  },
  {
   "cell_type": "code",
   "execution_count": 167,
   "metadata": {},
   "outputs": [
    {
     "name": "stdout",
     "output_type": "stream",
     "text": [
      "Term:  channel number\n",
      "Number of results:  1\n",
      "Results: \n",
      "                                      propertyValue Ontology            Term  \\\n",
      "0  increased number of primordial hindbrain channel      obo  UPHENO_0014578   \n",
      "\n",
      "  Confidence  \n",
      "0       GOOD  \n"
     ]
    }
   ],
   "source": [
    "data = zooma_worker.get_annotations(\"channel number\")"
   ]
  },
  {
   "cell_type": "code",
   "execution_count": 163,
   "metadata": {},
   "outputs": [
    {
     "name": "stdout",
     "output_type": "stream",
     "text": [
      "Term:  cd45\n",
      "Number of results:  2\n",
      "Results: \n",
      "                                                 uri         propertyType  \\\n",
      "0  http://rdf.ebi.ac.uk/resource/zooma/F7C4421AF6...  selected cell types   \n",
      "1  http://rdf.ebi.ac.uk/resource/zooma/04B696E33A...               strain   \n",
      "\n",
      "  propertyValue Ontology         Term Confidence  \n",
      "0         CD45+      obo   CL_0000738     MEDIUM  \n",
      "1          CD-1      efo  EFO_0005180     MEDIUM  \n"
     ]
    }
   ],
   "source": [
    "data = zooma_worker.get_annotations(\"cd45\")"
   ]
  },
  {
   "cell_type": "code",
   "execution_count": 161,
   "metadata": {},
   "outputs": [],
   "source": [
    "data = zooma_worker.general_get('/services/annotate', {'propertyType': 'cell type', 'propertyValue': 'CD11'})"
   ]
  },
  {
   "cell_type": "code",
   "execution_count": 162,
   "metadata": {},
   "outputs": [
    {
     "name": "stdout",
     "output_type": "stream",
     "text": [
      "Number of results:  1\n",
      "Results: \n",
      "                                                 uri propertyType  \\\n",
      "0  http://rdf.ebi.ac.uk/resource/zooma/04B696E33A...       strain   \n",
      "\n",
      "  propertyValue Ontology         Term Confidence  \n",
      "0          CD-1      efo  EFO_0005180       GOOD  \n"
     ]
    },
    {
     "data": {
      "text/html": [
       "<div>\n",
       "<style scoped>\n",
       "    .dataframe tbody tr th:only-of-type {\n",
       "        vertical-align: middle;\n",
       "    }\n",
       "\n",
       "    .dataframe tbody tr th {\n",
       "        vertical-align: top;\n",
       "    }\n",
       "\n",
       "    .dataframe thead th {\n",
       "        text-align: right;\n",
       "    }\n",
       "</style>\n",
       "<table border=\"1\" class=\"dataframe\">\n",
       "  <thead>\n",
       "    <tr style=\"text-align: right;\">\n",
       "      <th></th>\n",
       "      <th>uri</th>\n",
       "      <th>propertyType</th>\n",
       "      <th>propertyValue</th>\n",
       "      <th>Ontology</th>\n",
       "      <th>Term</th>\n",
       "      <th>Confidence</th>\n",
       "    </tr>\n",
       "  </thead>\n",
       "  <tbody>\n",
       "    <tr>\n",
       "      <th>0</th>\n",
       "      <td>http://rdf.ebi.ac.uk/resource/zooma/04B696E33A...</td>\n",
       "      <td>strain</td>\n",
       "      <td>CD-1</td>\n",
       "      <td>efo</td>\n",
       "      <td>EFO_0005180</td>\n",
       "      <td>GOOD</td>\n",
       "    </tr>\n",
       "  </tbody>\n",
       "</table>\n",
       "</div>"
      ],
      "text/plain": [
       "                                                 uri propertyType  \\\n",
       "0  http://rdf.ebi.ac.uk/resource/zooma/04B696E33A...       strain   \n",
       "\n",
       "  propertyValue Ontology         Term Confidence  \n",
       "0          CD-1      efo  EFO_0005180       GOOD  "
      ]
     },
     "execution_count": 162,
     "metadata": {},
     "output_type": "execute_result"
    }
   ],
   "source": [
    "zooma_worker.response_to_df(data)"
   ]
  },
  {
   "cell_type": "code",
   "execution_count": 150,
   "metadata": {},
   "outputs": [
    {
     "data": {
      "text/plain": [
       "['compound',\n",
       " 'developmental stage',\n",
       " 'disease',\n",
       " 'cell type',\n",
       " 'cell line',\n",
       " 'inferred cell type - ontology labels',\n",
       " 'organism',\n",
       " 'growth condition',\n",
       " 'inferred cell type - authors labels',\n",
       " 'strain',\n",
       " 'treatment',\n",
       " 'organism part',\n",
       " 'ploidy',\n",
       " 'sampling site',\n",
       " 'sex',\n",
       " 'disease state',\n",
       " 'diet',\n",
       " 'ethnic origin',\n",
       " 'cohort',\n",
       " 'physical activity',\n",
       " 'inferred cell type',\n",
       " 'infect',\n",
       " 'environmental stress',\n",
       " 'biosource type',\n",
       " 'specimen with known storage state',\n",
       " 'rna interference',\n",
       " 'phenotype',\n",
       " 'ecotype',\n",
       " 'disease staging',\n",
       " 'organismpart']"
      ]
     },
     "execution_count": 150,
     "metadata": {},
     "output_type": "execute_result"
    }
   ],
   "source": [
    "params = {\n",
    "    'limit': 30\n",
    "}\n",
    "\n",
    "endpoint = \"properties/types\"\n",
    "\n",
    "response = zooma_worker.general_get(endpoint, params)\n",
    "response.json()"
   ]
  },
  {
   "cell_type": "code",
   "execution_count": null,
   "metadata": {},
   "outputs": [],
   "source": []
  }
 ],
 "metadata": {
  "kernelspec": {
   "display_name": "data_submissions",
   "language": "python",
   "name": "python3"
  },
  "language_info": {
   "codemirror_mode": {
    "name": "ipython",
    "version": 3
   },
   "file_extension": ".py",
   "mimetype": "text/x-python",
   "name": "python",
   "nbconvert_exporter": "python",
   "pygments_lexer": "ipython3",
   "version": "3.12.8"
  }
 },
 "nbformat": 4,
 "nbformat_minor": 2
}
